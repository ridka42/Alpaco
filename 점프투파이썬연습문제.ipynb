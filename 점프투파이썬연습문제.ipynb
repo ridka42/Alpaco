{
  "nbformat": 4,
  "nbformat_minor": 0,
  "metadata": {
    "colab": {
      "provenance": [],
      "authorship_tag": "ABX9TyMyb2KO76Fu5j5yvMumcnUz",
      "include_colab_link": true
    },
    "kernelspec": {
      "name": "python3",
      "display_name": "Python 3"
    },
    "language_info": {
      "name": "python"
    }
  },
  "cells": [
    {
      "cell_type": "markdown",
      "metadata": {
        "id": "view-in-github",
        "colab_type": "text"
      },
      "source": [
        "<a href=\"https://colab.research.google.com/github/ridka42/Python_Data_Learning/blob/main/%EC%A0%90%ED%94%84%ED%88%AC%ED%8C%8C%EC%9D%B4%EC%8D%AC%EC%97%B0%EC%8A%B5%EB%AC%B8%EC%A0%9C.ipynb\" target=\"_parent\"><img src=\"https://colab.research.google.com/assets/colab-badge.svg\" alt=\"Open In Colab\"/></a>"
      ]
    },
    {
      "cell_type": "markdown",
      "source": [
        "# 2장(자료형) 연습문제"
      ],
      "metadata": {
        "id": "4fT3cLqERCdF"
      }
    },
    {
      "cell_type": "markdown",
      "source": [
        "홍길동 씨의 과목별 점수는 다음과 같다. 홍길동 씨의 평균 점수를 구해 보자.\n",
        "\n",
        "과목\t점수\n",
        "국어\t80\n",
        "영어\t75\n",
        "수학\t55"
      ],
      "metadata": {
        "id": "xW0yxGIzRVmj"
      }
    },
    {
      "cell_type": "code",
      "execution_count": 2,
      "metadata": {
        "colab": {
          "base_uri": "https://localhost:8080/"
        },
        "id": "U6EqptVSQHeA",
        "outputId": "a1b4bdba-545d-410a-9139-6d1755ee4a31"
      },
      "outputs": [
        {
          "output_type": "execute_result",
          "data": {
            "text/plain": [
              "70.0"
            ]
          },
          "metadata": {},
          "execution_count": 2
        }
      ],
      "source": [
        "a= 80\n",
        "b= 75\n",
        "c= 55\n",
        "\n",
        "ave = (a+b+c)/3\n",
        "ave"
      ]
    },
    {
      "cell_type": "markdown",
      "source": [
        "자연수 13이 홀수인지 짝수인지 판별할 수 있는 방법에 대해 말해 보자."
      ],
      "metadata": {
        "id": "zFvjp1T5Rhah"
      }
    },
    {
      "cell_type": "code",
      "source": [
        "if 13 % 2 ==1:\n",
        "  print(\"홀수\")\n",
        "else:\n",
        "  print(\"짝수\")"
      ],
      "metadata": {
        "colab": {
          "base_uri": "https://localhost:8080/"
        },
        "id": "YmhJGpfIRA8m",
        "outputId": "593b1cc7-19c1-469b-eb91-0153892ba874"
      },
      "execution_count": 3,
      "outputs": [
        {
          "output_type": "stream",
          "name": "stdout",
          "text": [
            "홀수\n"
          ]
        }
      ]
    },
    {
      "cell_type": "markdown",
      "source": [
        "홍길동 씨의 주민등록번호는 881120-1068234이다. 홍길동 씨의 주민등록번호를 연월일(YYYYMMDD) 부분과 그 뒤의 숫자 부분으로 나누어 출력해 보자."
      ],
      "metadata": {
        "id": "1ohcgAxPRuNA"
      }
    },
    {
      "cell_type": "code",
      "source": [
        "id = \"881120-1068234\"\n",
        "a= id[:6]\n",
        "b= id[7:]\n",
        "print(a,b)"
      ],
      "metadata": {
        "colab": {
          "base_uri": "https://localhost:8080/"
        },
        "id": "mxZnfQ7kRp81",
        "outputId": "fb44c4fc-e269-4f97-8ec2-8112b5f8df98"
      },
      "execution_count": 9,
      "outputs": [
        {
          "output_type": "stream",
          "name": "stdout",
          "text": [
            "881120 1068234\n"
          ]
        }
      ]
    },
    {
      "cell_type": "markdown",
      "source": [
        "주민등록번호 뒷자리의 맨 첫 번째 숫자는 성별을 나타낸다. 주민등록번호에서 성별을 나타내는 숫자를 출력해 보자."
      ],
      "metadata": {
        "id": "aoAiGhQ3SQ37"
      }
    },
    {
      "cell_type": "code",
      "source": [
        "print(id[7])"
      ],
      "metadata": {
        "colab": {
          "base_uri": "https://localhost:8080/"
        },
        "id": "PTYkUNsTR3_1",
        "outputId": "ceda4603-3094-430c-b2b3-ce29bbca199c"
      },
      "execution_count": 10,
      "outputs": [
        {
          "output_type": "stream",
          "name": "stdout",
          "text": [
            "1\n"
          ]
        }
      ]
    },
    {
      "cell_type": "markdown",
      "source": [
        "다음과 같은 문자열 a:b:c:d가 있다. 문자열의 replace 함수를 사용하여 a#b#c#d로 바꿔서 출력해 보자."
      ],
      "metadata": {
        "id": "Cqt1pY0WSZvD"
      }
    },
    {
      "cell_type": "code",
      "source": [
        "\"a:b:c:d\".replace(\":\",\"#\")"
      ],
      "metadata": {
        "colab": {
          "base_uri": "https://localhost:8080/",
          "height": 35
        },
        "id": "Xsdds7jpSWWQ",
        "outputId": "45ddfcef-e7b5-494f-e69e-8c88cefcb067"
      },
      "execution_count": 11,
      "outputs": [
        {
          "output_type": "execute_result",
          "data": {
            "text/plain": [
              "'a#b#c#d'"
            ],
            "application/vnd.google.colaboratory.intrinsic+json": {
              "type": "string"
            }
          },
          "metadata": {},
          "execution_count": 11
        }
      ]
    },
    {
      "cell_type": "markdown",
      "source": [
        "[1, 3, 5, 4, 2] 리스트를 [5, 4, 3, 2, 1]로 만들어 보자."
      ],
      "metadata": {
        "id": "JMbjlk7uSiLu"
      }
    },
    {
      "cell_type": "code",
      "source": [
        "li = [1, 3, 5, 4, 2]\n",
        "li.sort()\n",
        "li.reverse()\n",
        "li"
      ],
      "metadata": {
        "colab": {
          "base_uri": "https://localhost:8080/"
        },
        "id": "OzyanAvpSeeL",
        "outputId": "7855a2ee-068c-4393-92ef-e4ad25af32bb"
      },
      "execution_count": 19,
      "outputs": [
        {
          "output_type": "execute_result",
          "data": {
            "text/plain": [
              "[5, 4, 3, 2, 1]"
            ]
          },
          "metadata": {},
          "execution_count": 19
        }
      ]
    },
    {
      "cell_type": "markdown",
      "source": [
        "['Life', 'is', 'too', 'short'] 리스트를 Life is too short 문자열로 만들어 출력해 보자."
      ],
      "metadata": {
        "id": "yWukYIGiTAAP"
      }
    },
    {
      "cell_type": "code",
      "source": [
        "li = ['Life', 'is', 'too', 'short']\n",
        "a = \" \".join(li)\n",
        "a\n",
        "\n",
        "# 리스트의 각 단어들을 한 문장으로 조립할 때 단어들 사이마다 공백을 넣어 주어야 한다. \n",
        "# 1개의 공백문자(\" \")를 사용하여 join한다."
      ],
      "metadata": {
        "colab": {
          "base_uri": "https://localhost:8080/",
          "height": 35
        },
        "id": "OhWPmS93SkgR",
        "outputId": "aa9da1d8-2edf-4ad4-8606-350542e9348e"
      },
      "execution_count": 21,
      "outputs": [
        {
          "output_type": "execute_result",
          "data": {
            "text/plain": [
              "'Life is too short'"
            ],
            "application/vnd.google.colaboratory.intrinsic+json": {
              "type": "string"
            }
          },
          "metadata": {},
          "execution_count": 21
        }
      ]
    },
    {
      "cell_type": "markdown",
      "source": [
        "(1,2,3) 튜플에 값 4를 추가하여 (1,2,3,4)를 만들어 출력해 보자."
      ],
      "metadata": {
        "id": "TWSo8l8pTdD8"
      }
    },
    {
      "cell_type": "code",
      "source": [
        "a= (1,2,3)\n",
        "a= a+(4,)\n",
        "print(a)\n",
        "\n",
        "\n",
        "# a + (4, )의 결과는 a 값이 변경되는 것이 아니라 (튜플은 그 값을 변경할 수 없다) \n",
        "# 새로운 튜플이 생성되고 그 값이 a 변수에 대입되는 것\n"
      ],
      "metadata": {
        "colab": {
          "base_uri": "https://localhost:8080/"
        },
        "id": "nardjMDrTF2h",
        "outputId": "a4b83653-ff25-4d38-b9b9-b475d7be9a98"
      },
      "execution_count": 32,
      "outputs": [
        {
          "output_type": "stream",
          "name": "stdout",
          "text": [
            "(1, 2, 3, 4)\n"
          ]
        }
      ]
    },
    {
      "cell_type": "markdown",
      "source": [
        "다음과 같은 딕셔너리 a가 있다.\n",
        "\n",
        ">a = dict()\n",
        "\n",
        ">a\n",
        "\n",
        "{}\n",
        "\n",
        "다음 중 오류가 발생하는 경우를 고르고, 그 이유를 설명해 보자.\n",
        "\n",
        "1. a['name'] = 'python'\n",
        "\n",
        "2. a[('a',)] = 'python'\n",
        "\n",
        "3. a[[1]] = 'python'\n",
        "\n",
        "4. a[250] = 'python'\n"
      ],
      "metadata": {
        "id": "MsJ77yWtUVOF"
      }
    },
    {
      "cell_type": "code",
      "source": [
        "a= dict()\n",
        "a[('a',)] = 'python'\n",
        "a\n",
        "# 튜플로 key 생성 가능"
      ],
      "metadata": {
        "colab": {
          "base_uri": "https://localhost:8080/"
        },
        "id": "CK8058feTgMp",
        "outputId": "a0c33ad9-ed91-45c7-9e8c-a007202fc977"
      },
      "execution_count": 37,
      "outputs": [
        {
          "output_type": "execute_result",
          "data": {
            "text/plain": [
              "{('a',): 'python'}"
            ]
          },
          "metadata": {},
          "execution_count": 37
        }
      ]
    },
    {
      "cell_type": "code",
      "source": [
        "a[[1]] = 'python'\n",
        "a\n",
        "# key에는 변하는 값을 사용할 수 없다. -> 리스트는 불가능"
      ],
      "metadata": {
        "colab": {
          "base_uri": "https://localhost:8080/",
          "height": 211
        },
        "id": "yYiL_3XlUrQs",
        "outputId": "6bec5320-21dc-408c-d52c-36cdfa90562b"
      },
      "execution_count": 38,
      "outputs": [
        {
          "output_type": "error",
          "ename": "TypeError",
          "evalue": "ignored",
          "traceback": [
            "\u001b[0;31m---------------------------------------------------------------------------\u001b[0m",
            "\u001b[0;31mTypeError\u001b[0m                                 Traceback (most recent call last)",
            "\u001b[0;32m<ipython-input-38-7e13c384cd00>\u001b[0m in \u001b[0;36m<module>\u001b[0;34m\u001b[0m\n\u001b[0;32m----> 1\u001b[0;31m \u001b[0ma\u001b[0m\u001b[0;34m[\u001b[0m\u001b[0;34m[\u001b[0m\u001b[0;36m1\u001b[0m\u001b[0;34m]\u001b[0m\u001b[0;34m]\u001b[0m \u001b[0;34m=\u001b[0m \u001b[0;34m'python'\u001b[0m\u001b[0;34m\u001b[0m\u001b[0;34m\u001b[0m\u001b[0m\n\u001b[0m\u001b[1;32m      2\u001b[0m \u001b[0ma\u001b[0m\u001b[0;34m\u001b[0m\u001b[0;34m\u001b[0m\u001b[0m\n\u001b[1;32m      3\u001b[0m \u001b[0;31m# key에는 변하는 값을 사용할 수 없다. -> 리스트는 불가능\u001b[0m\u001b[0;34m\u001b[0m\u001b[0;34m\u001b[0m\u001b[0;34m\u001b[0m\u001b[0m\n",
            "\u001b[0;31mTypeError\u001b[0m: unhashable type: 'list'"
          ]
        }
      ]
    },
    {
      "cell_type": "markdown",
      "source": [
        "딕셔너리 a에서 'B'에 해당되는 값을 추출해 보자."
      ],
      "metadata": {
        "id": "87rpxmvaVobt"
      }
    },
    {
      "cell_type": "code",
      "source": [
        "a = {'A':90, 'B':80, 'C':70}\n",
        "\n",
        "print(a.pop('B'))\n",
        "print(a)"
      ],
      "metadata": {
        "colab": {
          "base_uri": "https://localhost:8080/"
        },
        "id": "03__VRVxVqQ9",
        "outputId": "304ec548-0b75-477e-b331-10674f6b7e2c"
      },
      "execution_count": 43,
      "outputs": [
        {
          "output_type": "stream",
          "name": "stdout",
          "text": [
            "80\n",
            "{'A': 90, 'C': 70}\n"
          ]
        }
      ]
    },
    {
      "cell_type": "markdown",
      "source": [
        "a 리스트에서 중복 숫자를 제거해 보자."
      ],
      "metadata": {
        "id": "rwlilF15VFQ6"
      }
    },
    {
      "cell_type": "code",
      "source": [
        "a = [1, 1, 1, 2, 2, 3, 3, 3, 4, 4, 5]\n",
        "\n",
        "s = set(a)\n",
        "a= list(s)\n",
        "a"
      ],
      "metadata": {
        "colab": {
          "base_uri": "https://localhost:8080/"
        },
        "id": "4y4shUHSU_pj",
        "outputId": "84d41ef2-19c0-4443-9311-0ef49db97c2e"
      },
      "execution_count": 39,
      "outputs": [
        {
          "output_type": "execute_result",
          "data": {
            "text/plain": [
              "[1, 2, 3, 4, 5]"
            ]
          },
          "metadata": {},
          "execution_count": 39
        }
      ]
    },
    {
      "cell_type": "markdown",
      "source": [
        "파이썬은 다음처럼 동일한 값에 여러 개의 변수를 선언할 수 있다. 다음과 같이 a, b 변수를 선언한 후 a의 두 번째 요솟값을 변경하면 b 값은 어떻게 될까? 그리고 이런 결과가 오는 이유에 대해 설명해 보자.\n",
        "\n",
        "> a = b = [1, 2, 3]\n",
        "\n",
        "> a[1] = 4\n",
        "\n",
        "> print(b)"
      ],
      "metadata": {
        "id": "Ikn1_PTSVOgF"
      }
    },
    {
      "cell_type": "code",
      "source": [
        "a=b=[1,2,3]\n",
        "a[1] = 4\n",
        "print(b)\n",
        "\n",
        "# 따로 복제가 되는 것이 아니라 같은 주소를 부르는 이름이 다를뿐\n",
        "# a와 b 변수는 모두 동일한 [1, 2, 3]이라는 리스트 객체를 가리키고 있기 때문이다."
      ],
      "metadata": {
        "colab": {
          "base_uri": "https://localhost:8080/"
        },
        "id": "-UVM6NYaVMuv",
        "outputId": "e3b90689-b660-48e2-960e-ce1d3e1cfd4f"
      },
      "execution_count": 40,
      "outputs": [
        {
          "output_type": "stream",
          "name": "stdout",
          "text": [
            "[1, 4, 3]\n"
          ]
        }
      ]
    },
    {
      "cell_type": "markdown",
      "source": [
        "# 3장(제어문) 연습문제"
      ],
      "metadata": {
        "id": "Z0vrdj85V6eS"
      }
    },
    {
      "cell_type": "markdown",
      "source": [
        "다음 코드의 결괏값은 무엇일까?\n",
        "\n",
        "a = \"Life is too short, you need python\"\n",
        "\n",
        "if \"wife\" in a: print(\"wife\")\n",
        "\n",
        "elif \"python\" in a and \"you\" not in a: print(\"python\")\n",
        "\n",
        "elif \"shirt\" not in a: print(\"shirt\")\n",
        "\n",
        "elif \"need\" in a: print(\"need\")\n",
        "\n",
        "else: print(\"none\")"
      ],
      "metadata": {
        "id": "HLek9IICWOeM"
      }
    },
    {
      "cell_type": "code",
      "source": [
        "# shirt"
      ],
      "metadata": {
        "id": "wv3j3WnaVaL5"
      },
      "execution_count": null,
      "outputs": []
    },
    {
      "cell_type": "markdown",
      "source": [
        "while문을 사용해 1부터 1000까지의 자연수 중 3의 배수의 합을 구해 보자."
      ],
      "metadata": {
        "id": "5x9S9QikWfdY"
      }
    },
    {
      "cell_type": "code",
      "source": [
        "b=0\n",
        "a=1\n",
        "while a <1000:\n",
        "  if a % 3 ==0:\n",
        "    b= a+b\n",
        "  a+=1\n",
        "print(b)"
      ],
      "metadata": {
        "colab": {
          "base_uri": "https://localhost:8080/"
        },
        "id": "xogilDiUWfwF",
        "outputId": "48e5d2ec-ca7c-4766-9b79-93dc0980303d"
      },
      "execution_count": 45,
      "outputs": [
        {
          "output_type": "stream",
          "name": "stdout",
          "text": [
            "166833\n"
          ]
        }
      ]
    },
    {
      "cell_type": "markdown",
      "source": [
        "while문을 사용하여 다음과 같이 별(*)을 표시하는 프로그램을 작성해 보자.\n",
        "\n",
        "*\n",
        "\n",
        "**\n",
        "\n",
        "\\***\n",
        "\n",
        "\\****\n",
        "\n",
        "\\*****"
      ],
      "metadata": {
        "id": "AoxYK3w4XAtE"
      }
    },
    {
      "cell_type": "code",
      "source": [
        "n=1\n",
        "while True:\n",
        "  print('*'*n)\n",
        "  n+=1\n",
        "  if n >5: \n",
        "    break"
      ],
      "metadata": {
        "colab": {
          "base_uri": "https://localhost:8080/"
        },
        "id": "eSyCFxzkW59E",
        "outputId": "7b735b01-ac6f-4c72-d41e-368cc1569efc"
      },
      "execution_count": 49,
      "outputs": [
        {
          "output_type": "stream",
          "name": "stdout",
          "text": [
            "*\n",
            "**\n",
            "***\n",
            "****\n",
            "*****\n"
          ]
        }
      ]
    },
    {
      "cell_type": "markdown",
      "source": [
        "for문을 사용해 1부터 100까지의 숫자를 출력해 보자."
      ],
      "metadata": {
        "id": "bXkSIB-gXkyA"
      }
    },
    {
      "cell_type": "code",
      "source": [
        "for i in range(1,101):\n",
        "  print(i)"
      ],
      "metadata": {
        "id": "HgE9ScwvXb8E"
      },
      "execution_count": null,
      "outputs": []
    },
    {
      "cell_type": "markdown",
      "source": [
        "A 학급에 총 10명의 학생이 있다. 이 학생들의 중간고사 점수는 다음과 같다.\n",
        "\n",
        "[70, 60, 55, 75, 95, 90, 80, 80, 85, 100]\n",
        "\n",
        "for문을 사용하여 A 학급의 평균 점수를 구해 보자."
      ],
      "metadata": {
        "id": "O-80W5grX8-9"
      }
    },
    {
      "cell_type": "code",
      "source": [
        "a=0\n",
        "score = [70, 60, 55, 75, 95, 90, 80, 80, 85, 100]\n",
        "for s in score:\n",
        "  a= s +a\n",
        "print(a/len(score))"
      ],
      "metadata": {
        "colab": {
          "base_uri": "https://localhost:8080/"
        },
        "id": "eNc7n_SIXone",
        "outputId": "83eb4cd0-0e43-4fb8-df67-67688aded5df"
      },
      "execution_count": 53,
      "outputs": [
        {
          "output_type": "stream",
          "name": "stdout",
          "text": [
            "79.0\n"
          ]
        }
      ]
    },
    {
      "cell_type": "markdown",
      "source": [
        "리스트 중에서 홀수에만 2를 곱하여 저장하는 다음 코드가 있다.\n",
        "\n",
        "numbers = [1, 2, 3, 4, 5]\n",
        "\n",
        "result = []\n",
        "\n",
        "for n in numbers:\n",
        "\n",
        "  if n % 2 == 1:\n",
        "\n",
        "  result.append(n*2)\n",
        "\n",
        "위 코드를 리스트 내포(list comprehension)를 사용하여 표현해 보자."
      ],
      "metadata": {
        "id": "MCHniETGYdP7"
      }
    },
    {
      "cell_type": "code",
      "source": [
        "numbers = [1, 2, 3, 4, 5]\n",
        "result = [n*2 for n in numbers if n % 2 == 1]\n",
        "result"
      ],
      "metadata": {
        "colab": {
          "base_uri": "https://localhost:8080/"
        },
        "id": "NWTbgl_CYGRc",
        "outputId": "ed532e4b-4dd8-46b6-ba1b-7922346a4a09"
      },
      "execution_count": 55,
      "outputs": [
        {
          "output_type": "execute_result",
          "data": {
            "text/plain": [
              "[2, 6, 10]"
            ]
          },
          "metadata": {},
          "execution_count": 55
        }
      ]
    },
    {
      "cell_type": "markdown",
      "source": [
        "# 4장(함수) 연습문제"
      ],
      "metadata": {
        "id": "yJ37UshyaPik"
      }
    },
    {
      "cell_type": "markdown",
      "source": [
        "주어진 자연수가 홀수인지 짝수인지 판별해 주는 함수(is_odd)를 작성해 보자."
      ],
      "metadata": {
        "id": "ca-CQ5RFaWFb"
      }
    },
    {
      "cell_type": "code",
      "source": [
        "def is_odd(n):\n",
        "  if n%2==0:\n",
        "    return \"짝수\"\n",
        "  else:\n",
        "    return \"홀수\"\n",
        "\n",
        "is_odd(10)"
      ],
      "metadata": {
        "colab": {
          "base_uri": "https://localhost:8080/",
          "height": 35
        },
        "id": "eK6tu8sUYt3_",
        "outputId": "9f9ebaa4-6f7a-450d-9ec8-3720f67bea57"
      },
      "execution_count": 56,
      "outputs": [
        {
          "output_type": "execute_result",
          "data": {
            "text/plain": [
              "'짝수'"
            ],
            "application/vnd.google.colaboratory.intrinsic+json": {
              "type": "string"
            }
          },
          "metadata": {},
          "execution_count": 56
        }
      ]
    },
    {
      "cell_type": "code",
      "source": [
        "is_odd = lambda n: \"짝수\" if n%2==0 else \"홀수\" \n",
        "is_odd(21)"
      ],
      "metadata": {
        "colab": {
          "base_uri": "https://localhost:8080/",
          "height": 35
        },
        "id": "Ewl02H2Pag3v",
        "outputId": "1c1971aa-1913-42f4-a6f2-941284b6da1a"
      },
      "execution_count": 57,
      "outputs": [
        {
          "output_type": "execute_result",
          "data": {
            "text/plain": [
              "'홀수'"
            ],
            "application/vnd.google.colaboratory.intrinsic+json": {
              "type": "string"
            }
          },
          "metadata": {},
          "execution_count": 57
        }
      ]
    },
    {
      "cell_type": "markdown",
      "source": [
        "입력으로 들어오는 모든 수의 평균 값을 계산해 주는 함수를 작성해 보자. (단 입력으로 들어오는 수의 개수는 정해져 있지 않다.)"
      ],
      "metadata": {
        "id": "JVf2IHMOa7dR"
      }
    },
    {
      "cell_type": "code",
      "source": [
        "def ave(*numbers):\n",
        "  total=0\n",
        "  for t in numbers:\n",
        "    total += t\n",
        "  return total / len(numbers)\n",
        "\n",
        "ave(1,2,3,4,5)"
      ],
      "metadata": {
        "colab": {
          "base_uri": "https://localhost:8080/"
        },
        "id": "_4PZnRTJa4XQ",
        "outputId": "d941a25f-bc2b-4fe9-e0b4-7b9ddafedd05"
      },
      "execution_count": 59,
      "outputs": [
        {
          "output_type": "execute_result",
          "data": {
            "text/plain": [
              "3.0"
            ]
          },
          "metadata": {},
          "execution_count": 59
        }
      ]
    },
    {
      "cell_type": "markdown",
      "source": [
        "다음은 두 개의 숫자를 입력받아 더하여 돌려주는 프로그램이다.\n",
        "\n",
        "input1 = input(\"첫번째 숫자를 입력하세요:\")\n",
        "\n",
        "input2 = input(\"두번째 숫자를 입력하세요:\")\n",
        "\n",
        "total = input1 + input2\n",
        "\n",
        "print(\"두 수의 합은 %s 입니다\" % total)\n",
        "\n",
        "이 프로그램을 수행해 보자.\n",
        "\n",
        "첫번째 숫자를 입력하세요:3\n",
        "\n",
        "두번째 숫자를 입력하세요:6\n",
        "\n",
        "두 수의 합은 36 입니다\n",
        "\n",
        "3과 6을 입력했을 때 9가 아닌 36이라는 결괏값을 돌려주었다. 이 프로그램의 오류를 수정해 보자."
      ],
      "metadata": {
        "id": "MINEfcxGbodC"
      }
    },
    {
      "cell_type": "code",
      "source": [
        "input1 = input(\"첫번째 숫자를 입력하세요:\")\n",
        "input2 = input(\"두번째 숫자를 입력하세요:\")\n",
        "\n",
        "total = int(input1) + int(input2)\n",
        "print(\"두 수의 합은 %s 입니다\" % total)"
      ],
      "metadata": {
        "colab": {
          "base_uri": "https://localhost:8080/"
        },
        "id": "P2gSE6LabcLa",
        "outputId": "77c073b1-25c2-4595-e60c-0109fec44dea"
      },
      "execution_count": 60,
      "outputs": [
        {
          "output_type": "stream",
          "name": "stdout",
          "text": [
            "첫번째 숫자를 입력하세요:3\n",
            "두번째 숫자를 입력하세요:6\n",
            "두 수의 합은 9 입니다\n"
          ]
        }
      ]
    },
    {
      "cell_type": "markdown",
      "source": [
        "다음 중 출력 결과가 다른 것 한 개를 골라 보자.\n",
        "\n",
        "print(\"you\" \"need\" \"python\")\n",
        "\n",
        "print(\"you\"+\"need\"+\"python\")\n",
        "\n",
        "print(\"you\", \"need\", \"python\")\n",
        "\n",
        "print(\"\".join([\"you\", \"need\", \"python\"]))"
      ],
      "metadata": {
        "id": "46-OO7jRb9Dj"
      }
    },
    {
      "cell_type": "code",
      "source": [
        "print(\"you\", \"need\", \"python\")"
      ],
      "metadata": {
        "colab": {
          "base_uri": "https://localhost:8080/"
        },
        "id": "zY4VXeDfb05S",
        "outputId": "58d1ae55-e12a-483f-f2e1-eaa703316c18"
      },
      "execution_count": 61,
      "outputs": [
        {
          "output_type": "stream",
          "name": "stdout",
          "text": [
            "you need python\n"
          ]
        }
      ]
    },
    {
      "cell_type": "code",
      "source": [
        "print(\"\".join([\"you\", \"need\", \"python\"]))"
      ],
      "metadata": {
        "colab": {
          "base_uri": "https://localhost:8080/"
        },
        "id": "aziiW1zZcCqv",
        "outputId": "708097bf-764a-4665-8401-673e31eb5421"
      },
      "execution_count": 62,
      "outputs": [
        {
          "output_type": "stream",
          "name": "stdout",
          "text": [
            "youneedpython\n"
          ]
        }
      ]
    },
    {
      "cell_type": "markdown",
      "source": [
        "다음은 \"test.txt\"라는 파일에 \"Life is too short\" 문자열을 저장한 후 다시 그 파일을 읽어서 출력하는 프로그램이다.\n",
        "\n",
        "f1 = open(\"test.txt\", 'w')\n",
        "\n",
        "f1.write(\"Life is too short\")\n",
        "\n",
        "f2 = open(\"test.txt\", 'r')\n",
        "\n",
        "print(f2.read())\n",
        "\n",
        "이 프로그램은 우리가 예상한 \"Life is too short\"라는 문장을 출력하지 않는다. 우리가 예상한 값을 출력할 수 있도록 프로그램을 수정해 보자."
      ],
      "metadata": {
        "id": "gkfFqLOjcFh3"
      }
    },
    {
      "cell_type": "code",
      "source": [
        "f1 = open(\"test.txt\", 'w')\n",
        "f1.write(\"Life is too short\")\n",
        "f1.close()\n",
        "\n",
        "f2 = open(\"test.txt\", 'r')\n",
        "print(f2.read())\n",
        "f2.close()"
      ],
      "metadata": {
        "colab": {
          "base_uri": "https://localhost:8080/"
        },
        "id": "UWSWHIBVcEK4",
        "outputId": "925907a1-3d6d-46b6-a34e-e964ae2e0e60"
      },
      "execution_count": 66,
      "outputs": [
        {
          "output_type": "stream",
          "name": "stdout",
          "text": [
            "Life is too short\n"
          ]
        }
      ]
    },
    {
      "cell_type": "markdown",
      "source": [
        "사용자의 입력을 파일(test.txt)에 저장하는 프로그램을 작성해 보자. (단 프로그램을 다시 실행하더라도 기존에 작성한 내용을 유지하고 새로 입력한 내용을 추가해야 한다.)"
      ],
      "metadata": {
        "id": "TEsYfte1ctCH"
      }
    },
    {
      "cell_type": "code",
      "source": [
        "data = input()\n",
        "f = open(\"test.txt\", 'a')\n",
        "f.write(data)\n",
        "f.write(\"\\n\")\n",
        "f.close()"
      ],
      "metadata": {
        "colab": {
          "base_uri": "https://localhost:8080/"
        },
        "id": "EXQB9KygcPZC",
        "outputId": "5764be6d-8ab8-4dfa-b915-74967a39c704"
      },
      "execution_count": 67,
      "outputs": [
        {
          "name": "stdout",
          "output_type": "stream",
          "text": [
            "hi\n"
          ]
        }
      ]
    },
    {
      "cell_type": "markdown",
      "source": [
        "다음과 같은 내용을 지닌 파일 test.txt가 있다. 이 파일의 내용 중 \"java\"라는 문자열을 \"python\"으로 바꾸어서 저장해 보자.\n",
        "\n",
        "Life is too short\n",
        "\n",
        "you need java"
      ],
      "metadata": {
        "id": "RWbtenTGdAxG"
      }
    },
    {
      "cell_type": "code",
      "source": [
        "data = \"\"\"Life is too short\n",
        "you need java\"\"\"\n",
        "\n",
        "f= open(\"test.txt\", 'w')\n",
        "f.write(data)\n",
        "f.close()\n",
        "\n",
        "f= open(\"test.txt\", 'r')\n",
        "data = f.read()\n",
        "f.close()\n",
        "\n",
        "data = data.replace(\"java\",\"python\")\n",
        "\n",
        "f1 = open(\"test.txt\",'w')\n",
        "f1.write(data)\n",
        "f1.close()\n",
        "\n",
        "f= open(\"test.txt\", 'r')\n",
        "print(f.read())\n",
        "f.close()"
      ],
      "metadata": {
        "colab": {
          "base_uri": "https://localhost:8080/"
        },
        "id": "sB7TEJipc7cA",
        "outputId": "01bc66f3-07ba-4a4e-dd2e-784d25b2a983"
      },
      "execution_count": 78,
      "outputs": [
        {
          "output_type": "stream",
          "name": "stdout",
          "text": [
            "Life is too short\n",
            "you need python\n"
          ]
        }
      ]
    },
    {
      "cell_type": "code",
      "source": [],
      "metadata": {
        "id": "HaRBfJMJdW1o"
      },
      "execution_count": null,
      "outputs": []
    }
  ]
}