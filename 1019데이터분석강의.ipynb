{
  "nbformat": 4,
  "nbformat_minor": 0,
  "metadata": {
    "colab": {
      "provenance": [],
      "authorship_tag": "ABX9TyOjzl1dQ1Jl69UnAxMLYh4h",
      "include_colab_link": true
    },
    "kernelspec": {
      "name": "python3",
      "display_name": "Python 3"
    },
    "language_info": {
      "name": "python"
    }
  },
  "cells": [
    {
      "cell_type": "markdown",
      "metadata": {
        "id": "view-in-github",
        "colab_type": "text"
      },
      "source": [
        "<a href=\"https://colab.research.google.com/github/ridka42/Python_Data_Learning/blob/main/1019%EB%8D%B0%EC%9D%B4%ED%84%B0%EB%B6%84%EC%84%9D%EA%B0%95%EC%9D%98.ipynb\" target=\"_parent\"><img src=\"https://colab.research.google.com/assets/colab-badge.svg\" alt=\"Open In Colab\"/></a>"
      ]
    },
    {
      "cell_type": "markdown",
      "source": [
        "# 2. 숫자형 자료형"
      ],
      "metadata": {
        "id": "jjbhL3s3S3HW"
      }
    },
    {
      "cell_type": "code",
      "execution_count": 3,
      "metadata": {
        "colab": {
          "base_uri": "https://localhost:8080/"
        },
        "id": "4Wqb57WGJkKO",
        "outputId": "263d7833-8e04-4d41-ecf4-0d238c7efd8b"
      },
      "outputs": [
        {
          "output_type": "stream",
          "name": "stdout",
          "text": [
            "51500000000.0\n"
          ]
        }
      ],
      "source": [
        "a= 5.15E10\n",
        "print(a)\n",
        "# 5.15 * 10^10"
      ]
    },
    {
      "cell_type": "code",
      "source": [
        "a = 5.15E-10\n",
        "print(a)"
      ],
      "metadata": {
        "colab": {
          "base_uri": "https://localhost:8080/"
        },
        "id": "bARW4kS8NaGu",
        "outputId": "52408e47-2649-41c9-ea5e-8e703c260826"
      },
      "execution_count": 2,
      "outputs": [
        {
          "output_type": "stream",
          "name": "stdout",
          "text": [
            "5.15e-10\n"
          ]
        }
      ]
    },
    {
      "cell_type": "markdown",
      "source": [
        "print 함수"
      ],
      "metadata": {
        "id": "5a2M8Q21TA66"
      }
    },
    {
      "cell_type": "code",
      "source": [
        "print(\"Hello World!\", end = \"->\")\n",
        "print(\"Hello World!\", end = \"\\n\")"
      ],
      "metadata": {
        "colab": {
          "base_uri": "https://localhost:8080/"
        },
        "id": "Th0qmjF0NxYA",
        "outputId": "087f08ab-fbc9-4df9-84e8-91a98a5595c6"
      },
      "execution_count": 5,
      "outputs": [
        {
          "output_type": "stream",
          "name": "stdout",
          "text": [
            "Hello World!->Hello World!\n"
          ]
        }
      ]
    },
    {
      "cell_type": "code",
      "source": [
        "print(\"python\",'is','too','fun', sep='->')"
      ],
      "metadata": {
        "colab": {
          "base_uri": "https://localhost:8080/"
        },
        "id": "X8YI72YDOmJW",
        "outputId": "48aa493f-bfd9-4dc4-c91f-3a037adae725"
      },
      "execution_count": 6,
      "outputs": [
        {
          "output_type": "stream",
          "name": "stdout",
          "text": [
            "python->is->too->fun\n"
          ]
        }
      ]
    },
    {
      "cell_type": "code",
      "source": [
        "a = 5\n",
        "b = 10\n",
        "c = a+b\n",
        "d = a-b\n",
        "e = a*b\n",
        "f = b/a\n",
        "g = b%a\n",
        "h = b//a\n",
        "print(c)\n",
        "print(d)\n",
        "print(e)\n",
        "print(f)\n",
        "print(g)\n",
        "print(h)\n",
        "print(a+b+c+d+e+f+g+h)"
      ],
      "metadata": {
        "colab": {
          "base_uri": "https://localhost:8080/"
        },
        "id": "gr91Hu7-O1A1",
        "outputId": "f834a289-2675-4d29-b1ec-97b77ed8efee"
      },
      "execution_count": 8,
      "outputs": [
        {
          "output_type": "stream",
          "name": "stdout",
          "text": [
            "15\n",
            "-5\n",
            "50\n",
            "2.0\n",
            "0\n",
            "2\n",
            "79.0\n"
          ]
        }
      ]
    },
    {
      "cell_type": "markdown",
      "source": [
        "# 3. 문자열 자료형"
      ],
      "metadata": {
        "id": "yZj8G3YfTL4i"
      }
    },
    {
      "cell_type": "code",
      "source": [
        "text = 'Hello World'\n",
        "text = \"Hello World\"\n",
        "text = '''Hello World'''\n",
        "text = \"\"\"Hello World\"\"\"\n",
        "print(text)"
      ],
      "metadata": {
        "colab": {
          "base_uri": "https://localhost:8080/"
        },
        "id": "YyGBsUSjPQJe",
        "outputId": "ba95a8bd-d95a-443a-f13e-90e1a6826a00"
      },
      "execution_count": 9,
      "outputs": [
        {
          "output_type": "stream",
          "name": "stdout",
          "text": [
            "Hello World\n"
          ]
        }
      ]
    },
    {
      "cell_type": "code",
      "source": [
        "text = 'He said \\'hi\\' to me.'\n",
        "print(text)"
      ],
      "metadata": {
        "colab": {
          "base_uri": "https://localhost:8080/"
        },
        "id": "SnKLxCE5Q5D7",
        "outputId": "c6f6a93d-c9d9-4951-b26b-f72c0b590cc3"
      },
      "execution_count": 10,
      "outputs": [
        {
          "output_type": "stream",
          "name": "stdout",
          "text": [
            "He said 'hi' to me.\n"
          ]
        }
      ]
    },
    {
      "cell_type": "code",
      "source": [
        "text = 'He said \\nhi to me.'\n",
        "print(text)"
      ],
      "metadata": {
        "colab": {
          "base_uri": "https://localhost:8080/"
        },
        "id": "qxn6M_IXRNmH",
        "outputId": "cd93cbfa-b00d-4e92-c0d8-94dedd8ff441"
      },
      "execution_count": 11,
      "outputs": [
        {
          "output_type": "stream",
          "name": "stdout",
          "text": [
            "He said \n",
            "hi to me.\n"
          ]
        }
      ]
    },
    {
      "cell_type": "code",
      "source": [
        "text = '''He said \n",
        "hi\n",
        " to me.'''\n",
        "print(text)"
      ],
      "metadata": {
        "colab": {
          "base_uri": "https://localhost:8080/"
        },
        "id": "qcfOQaXKRZbR",
        "outputId": "6331874d-6b5b-48ba-f5d9-4c5710f8d36e"
      },
      "execution_count": 12,
      "outputs": [
        {
          "output_type": "stream",
          "name": "stdout",
          "text": [
            "He said \n",
            "hi\n",
            " to me.\n"
          ]
        }
      ]
    },
    {
      "cell_type": "code",
      "source": [
        "a = 'python'\n",
        "b = \"is too fun!\"\n",
        "c = 3\n",
        "print(a+b)\n",
        "print(a*c)"
      ],
      "metadata": {
        "colab": {
          "base_uri": "https://localhost:8080/"
        },
        "id": "av3JyJJQR25k",
        "outputId": "f4470627-1bed-4242-f364-b5f7bf74ab7f"
      },
      "execution_count": 13,
      "outputs": [
        {
          "output_type": "stream",
          "name": "stdout",
          "text": [
            "pythonis too fun!\n",
            "pythonpythonpython\n"
          ]
        }
      ]
    },
    {
      "cell_type": "code",
      "source": [
        "a= 'python'\n",
        "print(len(a))"
      ],
      "metadata": {
        "colab": {
          "base_uri": "https://localhost:8080/"
        },
        "id": "SJE7ryWdRik9",
        "outputId": "58028063-796f-4bf1-861b-f031b9951633"
      },
      "execution_count": 14,
      "outputs": [
        {
          "output_type": "stream",
          "name": "stdout",
          "text": [
            "6\n"
          ]
        }
      ]
    },
    {
      "cell_type": "code",
      "source": [
        "a= 'python'\n",
        "print(a[0])\n",
        "print(a[-1])"
      ],
      "metadata": {
        "colab": {
          "base_uri": "https://localhost:8080/"
        },
        "id": "xlCx0uXqSHcX",
        "outputId": "907a1c64-b68b-47dc-ba09-b288e65a0105"
      },
      "execution_count": 16,
      "outputs": [
        {
          "output_type": "stream",
          "name": "stdout",
          "text": [
            "p\n",
            "n\n"
          ]
        }
      ]
    },
    {
      "cell_type": "code",
      "source": [
        "a= 'python is too fun!'\n",
        "print(a[2:9])\n",
        "print(a[:9])\n",
        "print(a[3:])"
      ],
      "metadata": {
        "colab": {
          "base_uri": "https://localhost:8080/"
        },
        "id": "6Aq3pFwpSOCZ",
        "outputId": "03d89501-aa78-4376-c858-d8f0814d86b1"
      },
      "execution_count": 18,
      "outputs": [
        {
          "output_type": "stream",
          "name": "stdout",
          "text": [
            "thon is\n",
            "python is\n",
            "hon is too fun!\n"
          ]
        }
      ]
    },
    {
      "cell_type": "markdown",
      "source": [
        "문자열 전용 함수: format"
      ],
      "metadata": {
        "id": "f_BBVGteTQlt"
      }
    },
    {
      "cell_type": "code",
      "source": [
        "# 문자열.함수이름\n",
        "\n",
        "text = \"I eat {} apples and {} oranges\".format(3,5)\n",
        "print(text)"
      ],
      "metadata": {
        "colab": {
          "base_uri": "https://localhost:8080/"
        },
        "id": "ZpYUk1n5SZZP",
        "outputId": "38fbb183-31a9-4220-ad9f-3e61773f83bc"
      },
      "execution_count": 20,
      "outputs": [
        {
          "output_type": "stream",
          "name": "stdout",
          "text": [
            "I eat 3 apples and 5 oranges\n"
          ]
        }
      ]
    },
    {
      "cell_type": "code",
      "source": [
        "text = \"I eat {0} apples and {0} oranges\".format(3,5)\n",
        "print(text)"
      ],
      "metadata": {
        "colab": {
          "base_uri": "https://localhost:8080/"
        },
        "id": "xejYxE-VTZv9",
        "outputId": "535816f7-7ced-4179-8161-46e59ea22b3c"
      },
      "execution_count": 21,
      "outputs": [
        {
          "output_type": "stream",
          "name": "stdout",
          "text": [
            "I eat 3 apples and 3 oranges\n"
          ]
        }
      ]
    },
    {
      "cell_type": "code",
      "source": [
        "# 10개의 공간을 할당 한 후 오른쪽 정렬\n",
        "\n",
        "text = \"{:>10}\".format(\"Hi\")\n",
        "print(text)"
      ],
      "metadata": {
        "colab": {
          "base_uri": "https://localhost:8080/"
        },
        "id": "sTfkHhJKUIm_",
        "outputId": "59be5dad-ca54-4916-ccdc-df0a9d27f430"
      },
      "execution_count": 22,
      "outputs": [
        {
          "output_type": "stream",
          "name": "stdout",
          "text": [
            "        Hi\n"
          ]
        }
      ]
    },
    {
      "cell_type": "code",
      "source": [
        "# 10개의 공간을 할당 한 후 가운데 정렬\n",
        "\n",
        "text = \"{:^10}\".format(\"Hi\")\n",
        "print(text)"
      ],
      "metadata": {
        "colab": {
          "base_uri": "https://localhost:8080/"
        },
        "id": "EVf8C72qUQef",
        "outputId": "970e5b39-e9f2-4114-e1c8-1d1d9b982fed"
      },
      "execution_count": 23,
      "outputs": [
        {
          "output_type": "stream",
          "name": "stdout",
          "text": [
            "    Hi    \n"
          ]
        }
      ]
    },
    {
      "cell_type": "code",
      "source": [
        "# 10개의 공간을 할당 한 후 가운데 정렬 한 후 빈공간 =로 채우기\n",
        "\n",
        "text = \"{:=^10}\".format(\"Hi\")\n",
        "print(text)"
      ],
      "metadata": {
        "colab": {
          "base_uri": "https://localhost:8080/"
        },
        "id": "iU1GtymhUZGr",
        "outputId": "81f9675d-2eaf-4ee3-91c5-67dc6947e04f"
      },
      "execution_count": 24,
      "outputs": [
        {
          "output_type": "stream",
          "name": "stdout",
          "text": [
            "====Hi====\n"
          ]
        }
      ]
    },
    {
      "cell_type": "code",
      "source": [],
      "metadata": {
        "id": "73XE1f8bUv1b"
      },
      "execution_count": null,
      "outputs": []
    },
    {
      "cell_type": "code",
      "source": [
        "# f -> 실수다 2 -> 소수점 두자리로 표현\n",
        "\n",
        "text = \"{:.2f}\".format(3.141592)\n",
        "print(text)"
      ],
      "metadata": {
        "colab": {
          "base_uri": "https://localhost:8080/"
        },
        "id": "dOs2S9YkUeLm",
        "outputId": "5065c8c3-71d6-4d3e-d297-92f1b85c94de"
      },
      "execution_count": 25,
      "outputs": [
        {
          "output_type": "stream",
          "name": "stdout",
          "text": [
            "3.14\n"
          ]
        }
      ]
    },
    {
      "cell_type": "markdown",
      "source": [
        "문자열 전용 함수 : count"
      ],
      "metadata": {
        "id": "CpUulhMeUwr8"
      }
    },
    {
      "cell_type": "code",
      "source": [
        "text = \"Python:is:too:fun!\"\n",
        "print(text.count('o'))"
      ],
      "metadata": {
        "colab": {
          "base_uri": "https://localhost:8080/"
        },
        "id": "KOhbtBdzUlH1",
        "outputId": "18fb1a14-8f9e-4567-dafc-dc750fab2680"
      },
      "execution_count": 26,
      "outputs": [
        {
          "output_type": "stream",
          "name": "stdout",
          "text": [
            "3\n"
          ]
        }
      ]
    },
    {
      "cell_type": "markdown",
      "source": [
        "문자열 전용 함수 : find"
      ],
      "metadata": {
        "id": "Dp1o7sCbU420"
      }
    },
    {
      "cell_type": "code",
      "source": [
        "text = \"Python is too fun!\"\n",
        "\n",
        "print(text.find(\"o\"))\n",
        "print(text.find(\"z\"))\n",
        "\n",
        "# 없으면 -1"
      ],
      "metadata": {
        "colab": {
          "base_uri": "https://localhost:8080/"
        },
        "id": "sDrHZeyYU2tM",
        "outputId": "622b564b-febe-4f4d-c110-9ca2691b835e"
      },
      "execution_count": 27,
      "outputs": [
        {
          "output_type": "stream",
          "name": "stdout",
          "text": [
            "4\n",
            "-1\n"
          ]
        }
      ]
    },
    {
      "cell_type": "markdown",
      "source": [
        "문자열 전용 함수 : join"
      ],
      "metadata": {
        "id": "TvlfBmtgVNrG"
      }
    },
    {
      "cell_type": "code",
      "source": [
        "# 문자열 사이사이에 , 를 조인 시킴\n",
        "\n",
        "text = \",\".join(\"abcde\")\n",
        "print(text)"
      ],
      "metadata": {
        "colab": {
          "base_uri": "https://localhost:8080/"
        },
        "id": "YgNdH-NYVMaC",
        "outputId": "f1a3a3b3-505e-46f6-bfe4-f28e49dcde03"
      },
      "execution_count": 28,
      "outputs": [
        {
          "output_type": "stream",
          "name": "stdout",
          "text": [
            "a,b,c,d,e\n"
          ]
        }
      ]
    },
    {
      "cell_type": "markdown",
      "source": [
        "문자열 전용 함수 : upper, lower"
      ],
      "metadata": {
        "id": "iErOnRlFVgMd"
      }
    },
    {
      "cell_type": "code",
      "source": [
        "text = \"Python is Too fun!\"\n",
        "print(text.upper())\n",
        "print(text.lower())"
      ],
      "metadata": {
        "colab": {
          "base_uri": "https://localhost:8080/"
        },
        "id": "UY94jf_9VCFm",
        "outputId": "7c1f439f-76ad-4d5a-aaed-fa6a7d27f454"
      },
      "execution_count": 30,
      "outputs": [
        {
          "output_type": "stream",
          "name": "stdout",
          "text": [
            "PYTHON IS TOO FUN!\n",
            "python is too fun!\n"
          ]
        }
      ]
    },
    {
      "cell_type": "markdown",
      "source": [
        "문자열 전용 함수 : lstrip, rstrip, strip"
      ],
      "metadata": {
        "id": "0LgIPbzeVtWM"
      }
    },
    {
      "cell_type": "code",
      "source": [
        "text = \"       Hello       \"\n",
        "print(text.lstrip())\n",
        "print(text.rstrip())\n",
        "print(text.strip())"
      ],
      "metadata": {
        "colab": {
          "base_uri": "https://localhost:8080/"
        },
        "id": "oKkyijuVVp71",
        "outputId": "ce05833c-4891-48df-da71-4441bcb60fff"
      },
      "execution_count": 31,
      "outputs": [
        {
          "output_type": "stream",
          "name": "stdout",
          "text": [
            "Hello       \n",
            "       Hello\n",
            "Hello\n"
          ]
        }
      ]
    },
    {
      "cell_type": "markdown",
      "source": [
        "문자열 전용 함수 : replace"
      ],
      "metadata": {
        "id": "OlcdxWyVV7Wl"
      }
    },
    {
      "cell_type": "code",
      "source": [
        "text = \"Python is too fun!\"\n",
        "print(text.replace(\"Python\",\"Java\"))"
      ],
      "metadata": {
        "colab": {
          "base_uri": "https://localhost:8080/"
        },
        "id": "ISfx9KgoV48T",
        "outputId": "31be7364-7f5f-4a2b-880e-6c5356306f07"
      },
      "execution_count": 32,
      "outputs": [
        {
          "output_type": "stream",
          "name": "stdout",
          "text": [
            "Java is too fun!\n"
          ]
        }
      ]
    },
    {
      "cell_type": "markdown",
      "source": [
        "문자열 전용 함수 : split"
      ],
      "metadata": {
        "id": "rfZyZl-BWEuy"
      }
    },
    {
      "cell_type": "code",
      "source": [
        "text = \"Python is too fun!\"\n",
        "print(text.split())\n",
        "\n",
        "# 빈공간으로 잘라서 리스트에 넣어줌"
      ],
      "metadata": {
        "colab": {
          "base_uri": "https://localhost:8080/"
        },
        "id": "pJe5lA3PWDB8",
        "outputId": "d2e884fa-5858-4b0e-ca6a-3b9f4c5b12cb"
      },
      "execution_count": 33,
      "outputs": [
        {
          "output_type": "stream",
          "name": "stdout",
          "text": [
            "['Python', 'is', 'too', 'fun!']\n"
          ]
        }
      ]
    },
    {
      "cell_type": "code",
      "source": [
        "text = \"Python:is:too:fun!\"\n",
        "print(text.split(\":\"))"
      ],
      "metadata": {
        "colab": {
          "base_uri": "https://localhost:8080/"
        },
        "id": "M9ag-EEhWKCg",
        "outputId": "4cbf8638-0e76-4c5d-e0a2-53b58c4f2401"
      },
      "execution_count": 35,
      "outputs": [
        {
          "output_type": "stream",
          "name": "stdout",
          "text": [
            "['Python', 'is', 'too', 'fun!']\n"
          ]
        }
      ]
    },
    {
      "cell_type": "markdown",
      "source": [
        "문자열 전용 함수 : startswith, endswith"
      ],
      "metadata": {
        "id": "Qv6hK2AtWUJP"
      }
    },
    {
      "cell_type": "code",
      "source": [
        "text = \"Python:is:too:fun!\"\n",
        "print(text.startswith(\"Python\"))\n",
        "print(text.endswith(\"fun\"))"
      ],
      "metadata": {
        "colab": {
          "base_uri": "https://localhost:8080/"
        },
        "id": "YWcVtXZmWP9q",
        "outputId": "289ab77c-35ea-4c8f-8891-0ea667799682"
      },
      "execution_count": 37,
      "outputs": [
        {
          "output_type": "stream",
          "name": "stdout",
          "text": [
            "True\n",
            "False\n"
          ]
        }
      ]
    },
    {
      "cell_type": "markdown",
      "source": [
        "문자열 전용 함수 : isalpha"
      ],
      "metadata": {
        "id": "p-8nHuuKWdYI"
      }
    },
    {
      "cell_type": "code",
      "source": [
        "# 문자열로 이루어 졌는지\n",
        "text1 = \"hi\"\n",
        "text2 = \"안녕\"\n",
        "print(text1.isalpha())\n",
        "print(text2.isalpha())"
      ],
      "metadata": {
        "colab": {
          "base_uri": "https://localhost:8080/"
        },
        "id": "zDYWodQoWdBC",
        "outputId": "9cb966bc-506b-470e-d0ef-b5bd65e1c898"
      },
      "execution_count": 38,
      "outputs": [
        {
          "output_type": "stream",
          "name": "stdout",
          "text": [
            "True\n",
            "True\n"
          ]
        }
      ]
    },
    {
      "cell_type": "code",
      "source": [
        "text1 = \"how are you\" # 공백\n",
        "text2 = \"g00000d\" # 숫자\n",
        "print(text1.isalpha())\n",
        "print(text2.isalpha())"
      ],
      "metadata": {
        "colab": {
          "base_uri": "https://localhost:8080/"
        },
        "id": "vxK6ThwoW2Yb",
        "outputId": "c7e1697f-f299-4be3-994f-231e6079753b"
      },
      "execution_count": 39,
      "outputs": [
        {
          "output_type": "stream",
          "name": "stdout",
          "text": [
            "False\n",
            "False\n"
          ]
        }
      ]
    },
    {
      "cell_type": "markdown",
      "source": [
        "문자열 전용 함수 : isdigit, isalnum, isspace"
      ],
      "metadata": {
        "id": "xM0-T1vtXI9q"
      }
    },
    {
      "cell_type": "code",
      "source": [
        "# 숫자로만 구성 돼 있나\n",
        "\n",
        "text = '300'\n",
        "print(text.isdigit())"
      ],
      "metadata": {
        "colab": {
          "base_uri": "https://localhost:8080/"
        },
        "id": "9dgt52flXGNm",
        "outputId": "3bedc495-3109-4bc8-e37b-f7689ebd0dae"
      },
      "execution_count": 40,
      "outputs": [
        {
          "output_type": "stream",
          "name": "stdout",
          "text": [
            "True\n"
          ]
        }
      ]
    },
    {
      "cell_type": "code",
      "source": [
        "# 숫자와 문자열로 구성 돼 있나\n",
        "\n",
        "text = \"hell000\"\n",
        "print(text.isalnum())"
      ],
      "metadata": {
        "colab": {
          "base_uri": "https://localhost:8080/"
        },
        "id": "v42WNE_MXZ5H",
        "outputId": "a2f3fbf8-4dda-443a-cec5-437c3c90d5af"
      },
      "execution_count": 41,
      "outputs": [
        {
          "output_type": "stream",
          "name": "stdout",
          "text": [
            "True\n"
          ]
        }
      ]
    },
    {
      "cell_type": "code",
      "source": [
        "# 공백으로만 구성 돼 있나\n",
        "\n",
        "text = '    '\n",
        "print(text.isspace())"
      ],
      "metadata": {
        "colab": {
          "base_uri": "https://localhost:8080/"
        },
        "id": "DVwNiLMEXjTO",
        "outputId": "784c7f9e-f225-480f-9751-71847c6c3e88"
      },
      "execution_count": 42,
      "outputs": [
        {
          "output_type": "stream",
          "name": "stdout",
          "text": [
            "True\n"
          ]
        }
      ]
    },
    {
      "cell_type": "markdown",
      "source": [
        "변수 n에 할당된 값 만큼 '수박'을 출력하는 코드를 작성해 보시오."
      ],
      "metadata": {
        "id": "0IR9uxUBXTGL"
      }
    },
    {
      "cell_type": "code",
      "source": [
        "a = '수박'\n",
        "n = 7\n",
        "\n",
        "print(a*(n//2)+a[0]*(n%2))"
      ],
      "metadata": {
        "colab": {
          "base_uri": "https://localhost:8080/"
        },
        "id": "Powy5sJJXOtL",
        "outputId": "26db14a7-f24d-480a-d488-abcfeb32c146"
      },
      "execution_count": 45,
      "outputs": [
        {
          "output_type": "stream",
          "name": "stdout",
          "text": [
            "수박수박수박수\n"
          ]
        }
      ]
    },
    {
      "cell_type": "code",
      "source": [
        "n = 3\n",
        "a = '수박' * n\n",
        "\n",
        "print(a[:n])\n"
      ],
      "metadata": {
        "colab": {
          "base_uri": "https://localhost:8080/"
        },
        "id": "eNjiGq94YsvO",
        "outputId": "27f785a7-0c95-4277-910c-ea5c36c95187"
      },
      "execution_count": 49,
      "outputs": [
        {
          "output_type": "stream",
          "name": "stdout",
          "text": [
            "수박수\n"
          ]
        }
      ]
    },
    {
      "cell_type": "markdown",
      "source": [
        "# 4. 리스트 자료형"
      ],
      "metadata": {
        "id": "C4Q61TfrfyDN"
      }
    },
    {
      "cell_type": "code",
      "source": [
        "a= []\n",
        "b =[1,2,3]\n",
        "c=['life','is','short']\n",
        "d = [1,2,'life','is']\n",
        "e = [1,2,['life','is']]"
      ],
      "metadata": {
        "id": "abXC-ljMY4XE"
      },
      "execution_count": null,
      "outputs": []
    },
    {
      "cell_type": "code",
      "source": [
        "# 2차원 리스트 -> 리스트 안의 리스트\n",
        "\n",
        "a= [[1,2],[3,4]]"
      ],
      "metadata": {
        "id": "xvl2GLxBgLRx"
      },
      "execution_count": null,
      "outputs": []
    },
    {
      "cell_type": "markdown",
      "source": [
        "리스트 인덱싱"
      ],
      "metadata": {
        "id": "QZ0SxA0whCP5"
      }
    },
    {
      "cell_type": "code",
      "source": [
        "a= [1,2,3]\n",
        "print(a[0])\n",
        "print(a[-1])\n"
      ],
      "metadata": {
        "colab": {
          "base_uri": "https://localhost:8080/"
        },
        "id": "UcT5U49sgWvM",
        "outputId": "2e89cd41-ed33-4c77-ef27-41b5feae020f"
      },
      "execution_count": 51,
      "outputs": [
        {
          "output_type": "stream",
          "name": "stdout",
          "text": [
            "1\n",
            "3\n"
          ]
        }
      ]
    },
    {
      "cell_type": "code",
      "source": [
        "a= [1,2,3,4,5]\n",
        "print(a[0:2]) # 0,1\n",
        "print(a[2:]) # 2~\n",
        "print(a[0:4:2]) # 0,1,2,3 을 2씩 띄어서 -> 0,2"
      ],
      "metadata": {
        "colab": {
          "base_uri": "https://localhost:8080/"
        },
        "id": "-wXJu62VgZyU",
        "outputId": "6eed2889-6b35-4c81-d233-776f0b06f062"
      },
      "execution_count": 53,
      "outputs": [
        {
          "output_type": "stream",
          "name": "stdout",
          "text": [
            "[1, 2]\n",
            "[3, 4, 5]\n",
            "[1, 3]\n"
          ]
        }
      ]
    },
    {
      "cell_type": "markdown",
      "source": [
        "리스트 덧셈, 곱셈"
      ],
      "metadata": {
        "id": "s7ehfgnnhGdX"
      }
    },
    {
      "cell_type": "code",
      "source": [
        "a= [1,2,3]\n",
        "b=[4,5,6]\n",
        "a+b\n",
        "\n",
        "# 빼기는 오류"
      ],
      "metadata": {
        "colab": {
          "base_uri": "https://localhost:8080/"
        },
        "id": "Aa2HtIVBgrN2",
        "outputId": "40ef489f-d7ff-4ad1-ab1e-fa48ffc25a71"
      },
      "execution_count": 54,
      "outputs": [
        {
          "output_type": "execute_result",
          "data": {
            "text/plain": [
              "[1, 2, 3, 4, 5, 6]"
            ]
          },
          "metadata": {},
          "execution_count": 54
        }
      ]
    },
    {
      "cell_type": "code",
      "source": [
        "a*3"
      ],
      "metadata": {
        "colab": {
          "base_uri": "https://localhost:8080/"
        },
        "id": "Gtba9EYNhLTH",
        "outputId": "dcea5e4b-c1fd-404b-810f-f7ed76123115"
      },
      "execution_count": 55,
      "outputs": [
        {
          "output_type": "execute_result",
          "data": {
            "text/plain": [
              "[1, 2, 3, 1, 2, 3, 1, 2, 3]"
            ]
          },
          "metadata": {},
          "execution_count": 55
        }
      ]
    },
    {
      "cell_type": "markdown",
      "source": [
        "리스트 길이 구하기"
      ],
      "metadata": {
        "id": "Z7_hoa9BhUUK"
      }
    },
    {
      "cell_type": "code",
      "source": [
        "a=[1,2,3]\n",
        "len(a)"
      ],
      "metadata": {
        "colab": {
          "base_uri": "https://localhost:8080/"
        },
        "id": "7SC7CUrchQ8C",
        "outputId": "f487ece9-2df6-4854-e7cb-291e1675a5a5"
      },
      "execution_count": 56,
      "outputs": [
        {
          "output_type": "execute_result",
          "data": {
            "text/plain": [
              "3"
            ]
          },
          "metadata": {},
          "execution_count": 56
        }
      ]
    },
    {
      "cell_type": "markdown",
      "source": [
        "리스트 값 수정하기"
      ],
      "metadata": {
        "id": "I2lqPHhqhb_t"
      }
    },
    {
      "cell_type": "code",
      "source": [
        "a=[1,2,3]\n",
        "a[2]=4\n",
        "a"
      ],
      "metadata": {
        "colab": {
          "base_uri": "https://localhost:8080/"
        },
        "id": "aD_18OuYhYC3",
        "outputId": "990a3c28-f548-4984-b257-f5ab95e50aa7"
      },
      "execution_count": 57,
      "outputs": [
        {
          "output_type": "execute_result",
          "data": {
            "text/plain": [
              "[1, 2, 4]"
            ]
          },
          "metadata": {},
          "execution_count": 57
        }
      ]
    },
    {
      "cell_type": "markdown",
      "source": [
        "del 키워드 이용해서 리스트 요소 삭제하기"
      ],
      "metadata": {
        "id": "StZ2VFmshhZo"
      }
    },
    {
      "cell_type": "code",
      "source": [
        "a= [1,2,3,4,5]\n",
        "del a[1]\n",
        "print(a)"
      ],
      "metadata": {
        "colab": {
          "base_uri": "https://localhost:8080/"
        },
        "id": "6IiXb4DYhgGV",
        "outputId": "6ed0fec6-8947-4978-f892-71632ee5117f"
      },
      "execution_count": 58,
      "outputs": [
        {
          "output_type": "stream",
          "name": "stdout",
          "text": [
            "[1, 3, 4, 5]\n"
          ]
        }
      ]
    },
    {
      "cell_type": "code",
      "source": [
        "a= [1,2,3,4,5]\n",
        "del a[2:]\n",
        "print(a)"
      ],
      "metadata": {
        "colab": {
          "base_uri": "https://localhost:8080/"
        },
        "id": "lxUmSX5chqH-",
        "outputId": "f29be432-eeeb-44ad-9abc-46e7e8363990"
      },
      "execution_count": 59,
      "outputs": [
        {
          "output_type": "stream",
          "name": "stdout",
          "text": [
            "[1, 2]\n"
          ]
        }
      ]
    },
    {
      "cell_type": "markdown",
      "source": [
        "list 내장함수, 전용함수"
      ],
      "metadata": {
        "id": "mVMETJwphxE-"
      }
    },
    {
      "cell_type": "code",
      "source": [
        "a= 'python'\n",
        "list(a)\n",
        "\n",
        "# 글자를 자르기 쉽다."
      ],
      "metadata": {
        "colab": {
          "base_uri": "https://localhost:8080/"
        },
        "id": "PtlIP5bHhuqH",
        "outputId": "cd80093c-30b6-4260-8a7a-3646d41c1f5c"
      },
      "execution_count": 61,
      "outputs": [
        {
          "output_type": "execute_result",
          "data": {
            "text/plain": [
              "['p', 'y', 't', 'h', 'o', 'n']"
            ]
          },
          "metadata": {},
          "execution_count": 61
        }
      ]
    },
    {
      "cell_type": "code",
      "source": [
        "# append\n",
        "\n",
        "a=[1,2,3]\n",
        "a.append(4)\n",
        "print(a)\n",
        "a.append([5,7])\n",
        "print(a)"
      ],
      "metadata": {
        "colab": {
          "base_uri": "https://localhost:8080/"
        },
        "id": "G07jFbFKh1F8",
        "outputId": "00cf07b0-02d8-4b79-f360-be6028db2788"
      },
      "execution_count": 64,
      "outputs": [
        {
          "output_type": "stream",
          "name": "stdout",
          "text": [
            "[1, 2, 3, 4]\n",
            "[1, 2, 3, 4, [5, 7]]\n"
          ]
        }
      ]
    },
    {
      "cell_type": "code",
      "source": [
        "# sort\n",
        "\n",
        "a=[1253,465,3,5,6]\n",
        "a.sort()\n",
        "print(a)\n",
        "a.sort(reverse = True)\n",
        "print(a)\n",
        "\n",
        "a= ['a','c','b']\n",
        "a.sort()\n",
        "print(a)"
      ],
      "metadata": {
        "colab": {
          "base_uri": "https://localhost:8080/"
        },
        "id": "QfWrEnxklrW6",
        "outputId": "fb3b7a69-fea8-4ab8-9ace-f2eca703defd"
      },
      "execution_count": 69,
      "outputs": [
        {
          "output_type": "stream",
          "name": "stdout",
          "text": [
            "[3, 5, 6, 465, 1253]\n",
            "[1253, 465, 6, 5, 3]\n",
            "['a', 'b', 'c']\n"
          ]
        }
      ]
    },
    {
      "cell_type": "code",
      "source": [
        "# reverse\n",
        "\n",
        "a=['a','b','c']\n",
        "a.reverse() # 정렬해주는게 아니고 순서만 뒤집기\n",
        "print(a)\n",
        "print(a[::-1]) # reverse 함수와 같음"
      ],
      "metadata": {
        "colab": {
          "base_uri": "https://localhost:8080/"
        },
        "id": "WebfhxDel6cj",
        "outputId": "6e2758b1-40b0-4645-d95b-6119803349be"
      },
      "execution_count": 71,
      "outputs": [
        {
          "output_type": "stream",
          "name": "stdout",
          "text": [
            "['c', 'b', 'a']\n",
            "['a', 'b', 'c']\n"
          ]
        }
      ]
    },
    {
      "cell_type": "code",
      "source": [
        "# index\n",
        "\n",
        "a=[1,2,3]\n",
        "print(a.index(3))\n",
        "print(a.index(1))\n",
        "print(a.index(5))\n",
        "# a에서 3의 인덱스를 찾아라/ 없으면 오류"
      ],
      "metadata": {
        "colab": {
          "base_uri": "https://localhost:8080/",
          "height": 284
        },
        "id": "EUZW0xfpmSAn",
        "outputId": "416841fa-310a-4ea4-b78d-42a63c3c44c4"
      },
      "execution_count": 74,
      "outputs": [
        {
          "output_type": "stream",
          "name": "stdout",
          "text": [
            "2\n",
            "0\n"
          ]
        },
        {
          "output_type": "error",
          "ename": "ValueError",
          "evalue": "ignored",
          "traceback": [
            "\u001b[0;31m---------------------------------------------------------------------------\u001b[0m",
            "\u001b[0;31mValueError\u001b[0m                                Traceback (most recent call last)",
            "\u001b[0;32m<ipython-input-74-45ed5ef439a7>\u001b[0m in \u001b[0;36m<module>\u001b[0;34m\u001b[0m\n\u001b[1;32m      4\u001b[0m \u001b[0mprint\u001b[0m\u001b[0;34m(\u001b[0m\u001b[0ma\u001b[0m\u001b[0;34m.\u001b[0m\u001b[0mindex\u001b[0m\u001b[0;34m(\u001b[0m\u001b[0;36m3\u001b[0m\u001b[0;34m)\u001b[0m\u001b[0;34m)\u001b[0m\u001b[0;34m\u001b[0m\u001b[0;34m\u001b[0m\u001b[0m\n\u001b[1;32m      5\u001b[0m \u001b[0mprint\u001b[0m\u001b[0;34m(\u001b[0m\u001b[0ma\u001b[0m\u001b[0;34m.\u001b[0m\u001b[0mindex\u001b[0m\u001b[0;34m(\u001b[0m\u001b[0;36m1\u001b[0m\u001b[0;34m)\u001b[0m\u001b[0;34m)\u001b[0m\u001b[0;34m\u001b[0m\u001b[0;34m\u001b[0m\u001b[0m\n\u001b[0;32m----> 6\u001b[0;31m \u001b[0mprint\u001b[0m\u001b[0;34m(\u001b[0m\u001b[0ma\u001b[0m\u001b[0;34m.\u001b[0m\u001b[0mindex\u001b[0m\u001b[0;34m(\u001b[0m\u001b[0;36m5\u001b[0m\u001b[0;34m)\u001b[0m\u001b[0;34m)\u001b[0m\u001b[0;34m\u001b[0m\u001b[0;34m\u001b[0m\u001b[0m\n\u001b[0m\u001b[1;32m      7\u001b[0m \u001b[0;34m\u001b[0m\u001b[0m\n\u001b[1;32m      8\u001b[0m \u001b[0;31m# a에서 3의 인덱스를 찾아라\u001b[0m\u001b[0;34m\u001b[0m\u001b[0;34m\u001b[0m\u001b[0;34m\u001b[0m\u001b[0m\n",
            "\u001b[0;31mValueError\u001b[0m: 5 is not in list"
          ]
        }
      ]
    },
    {
      "cell_type": "code",
      "source": [
        "# insert\n",
        "\n",
        "a=[1,2,3]\n",
        "a.insert(0,4)\n",
        "a\n",
        "# 4를 0번째에 삽입해라"
      ],
      "metadata": {
        "colab": {
          "base_uri": "https://localhost:8080/"
        },
        "id": "N9X7hnUSmhwE",
        "outputId": "69956ab7-eb4e-4a0b-cb1e-d75e086f71b7"
      },
      "execution_count": 75,
      "outputs": [
        {
          "output_type": "execute_result",
          "data": {
            "text/plain": [
              "[4, 1, 2, 3]"
            ]
          },
          "metadata": {},
          "execution_count": 75
        }
      ]
    },
    {
      "cell_type": "code",
      "source": [
        "# remove\n",
        "\n",
        "a=[1,2,3,4,2,3,1]\n",
        "a.remove(3)\n",
        "a\n",
        "# 처음 3만 지워줌"
      ],
      "metadata": {
        "colab": {
          "base_uri": "https://localhost:8080/"
        },
        "id": "sjjQEiLLm08L",
        "outputId": "b694de05-e513-4a49-b344-db132e5c1e3b"
      },
      "execution_count": 76,
      "outputs": [
        {
          "output_type": "execute_result",
          "data": {
            "text/plain": [
              "[1, 2, 4, 2, 3, 1]"
            ]
          },
          "metadata": {},
          "execution_count": 76
        }
      ]
    },
    {
      "cell_type": "code",
      "source": [
        "# pop\n",
        "\n",
        "a= [1,2,3]\n",
        "print(a.pop())\n",
        "a\n",
        "# 뽑아 내기"
      ],
      "metadata": {
        "colab": {
          "base_uri": "https://localhost:8080/"
        },
        "id": "u9GdeTGkm9Fj",
        "outputId": "86680ab0-bc51-40dc-8817-44d25f8f48b3"
      },
      "execution_count": 79,
      "outputs": [
        {
          "output_type": "stream",
          "name": "stdout",
          "text": [
            "3\n"
          ]
        },
        {
          "output_type": "execute_result",
          "data": {
            "text/plain": [
              "[1, 2]"
            ]
          },
          "metadata": {},
          "execution_count": 79
        }
      ]
    },
    {
      "cell_type": "code",
      "source": [
        "# count\n",
        "\n",
        "a = [1,2,3,1]\n",
        "a.count(1)\n",
        "# 1의 개수 세기"
      ],
      "metadata": {
        "colab": {
          "base_uri": "https://localhost:8080/"
        },
        "id": "xm1WBikJnDhA",
        "outputId": "3a6b659a-49bd-4d2b-cc0f-4ee7dfcd416c"
      },
      "execution_count": 80,
      "outputs": [
        {
          "output_type": "execute_result",
          "data": {
            "text/plain": [
              "2"
            ]
          },
          "metadata": {},
          "execution_count": 80
        }
      ]
    },
    {
      "cell_type": "code",
      "source": [
        "# extend\n",
        "\n",
        "a=[1,2,3]\n",
        "a.extend([4,5])\n",
        "a\n",
        "# 합치고 저장하기"
      ],
      "metadata": {
        "colab": {
          "base_uri": "https://localhost:8080/"
        },
        "id": "zYa6wy7AnN-V",
        "outputId": "0877ea9d-6786-4f3b-d6d3-76ccf525479a"
      },
      "execution_count": 81,
      "outputs": [
        {
          "output_type": "execute_result",
          "data": {
            "text/plain": [
              "[1, 2, 3, 4, 5]"
            ]
          },
          "metadata": {},
          "execution_count": 81
        }
      ]
    },
    {
      "cell_type": "markdown",
      "source": [
        "리스트 값이 저장된 a 의 최대값을 변수 c에 할당하고 최소값을 변수 d에 할당하세요.\n",
        "\n",
        "a=[1,3,5,4,2]"
      ],
      "metadata": {
        "id": "l5Ta7m14nhFI"
      }
    },
    {
      "cell_type": "code",
      "source": [
        "a=[1,3,5,4,2]\n",
        "a.sort()\n",
        "c=a[-1]\n",
        "d=a[0]\n",
        "print(a)\n",
        "print(c)\n",
        "print(d)\n",
        "\n",
        "print(max(a))\n",
        "print(min(a))\n"
      ],
      "metadata": {
        "colab": {
          "base_uri": "https://localhost:8080/"
        },
        "id": "6yjTUbblnXU3",
        "outputId": "27a8442c-ff03-4633-9cf9-c2e2860ad485"
      },
      "execution_count": 97,
      "outputs": [
        {
          "output_type": "stream",
          "name": "stdout",
          "text": [
            "[1, 2, 3, 4, 5]\n",
            "5\n",
            "1\n",
            "5\n",
            "1\n"
          ]
        }
      ]
    },
    {
      "cell_type": "markdown",
      "source": [
        "변수 b에서 인덱싱을 사용하여 5만 추출해서 변수 e에 할당하세요.\n"
      ],
      "metadata": {
        "id": "N7vJ7Nh3oeO8"
      }
    },
    {
      "cell_type": "code",
      "source": [
        "b=[1,2,3,[4,5]]\n",
        "e=b[3][1]\n",
        "e"
      ],
      "metadata": {
        "colab": {
          "base_uri": "https://localhost:8080/"
        },
        "id": "7j01tc4Kn4z5",
        "outputId": "eb3ecb37-9141-4785-babd-34bc05c126b3"
      },
      "execution_count": 95,
      "outputs": [
        {
          "output_type": "execute_result",
          "data": {
            "text/plain": [
              "5"
            ]
          },
          "metadata": {},
          "execution_count": 95
        }
      ]
    },
    {
      "cell_type": "markdown",
      "source": [
        "변수 c,d,e를 곱한 값을 화면에 출력하세요."
      ],
      "metadata": {
        "id": "z1OKHzppomsa"
      }
    },
    {
      "cell_type": "code",
      "source": [
        "print(c*d*e)"
      ],
      "metadata": {
        "colab": {
          "base_uri": "https://localhost:8080/"
        },
        "id": "HGuPwz1Zouly",
        "outputId": "906389eb-01be-4353-ef58-4d4300980ee2"
      },
      "execution_count": 96,
      "outputs": [
        {
          "output_type": "execute_result",
          "data": {
            "text/plain": [
              "25"
            ]
          },
          "metadata": {},
          "execution_count": 96
        }
      ]
    },
    {
      "cell_type": "markdown",
      "source": [
        "# 5. 튜플 자료형"
      ],
      "metadata": {
        "id": "wZoPU09rdqSI"
      }
    },
    {
      "cell_type": "code",
      "source": [
        "t1 = (1,2,3)\n",
        "t2 = (1,2,[3,4])"
      ],
      "metadata": {
        "id": "XXMQKrdaowSi"
      },
      "execution_count": 1,
      "outputs": []
    },
    {
      "cell_type": "code",
      "source": [
        "# 튜플 값 변경하기 -> 불가능\n",
        "\n",
        "a= (1,2,3,4,5)\n",
        "a[2] =10\n",
        "print(a)"
      ],
      "metadata": {
        "colab": {
          "base_uri": "https://localhost:8080/",
          "height": 229
        },
        "id": "SVQ5ZwuOd77j",
        "outputId": "e9eba5ce-264f-4059-8250-ffa6bbc3d5ec"
      },
      "execution_count": 2,
      "outputs": [
        {
          "output_type": "error",
          "ename": "TypeError",
          "evalue": "ignored",
          "traceback": [
            "\u001b[0;31m---------------------------------------------------------------------------\u001b[0m",
            "\u001b[0;31mTypeError\u001b[0m                                 Traceback (most recent call last)",
            "\u001b[0;32m<ipython-input-2-4de417044feb>\u001b[0m in \u001b[0;36m<module>\u001b[0;34m\u001b[0m\n\u001b[1;32m      2\u001b[0m \u001b[0;34m\u001b[0m\u001b[0m\n\u001b[1;32m      3\u001b[0m \u001b[0ma\u001b[0m\u001b[0;34m=\u001b[0m \u001b[0;34m(\u001b[0m\u001b[0;36m1\u001b[0m\u001b[0;34m,\u001b[0m\u001b[0;36m2\u001b[0m\u001b[0;34m,\u001b[0m\u001b[0;36m3\u001b[0m\u001b[0;34m,\u001b[0m\u001b[0;36m4\u001b[0m\u001b[0;34m,\u001b[0m\u001b[0;36m5\u001b[0m\u001b[0;34m)\u001b[0m\u001b[0;34m\u001b[0m\u001b[0;34m\u001b[0m\u001b[0m\n\u001b[0;32m----> 4\u001b[0;31m \u001b[0ma\u001b[0m\u001b[0;34m[\u001b[0m\u001b[0;36m2\u001b[0m\u001b[0;34m]\u001b[0m \u001b[0;34m=\u001b[0m\u001b[0;36m10\u001b[0m\u001b[0;34m\u001b[0m\u001b[0;34m\u001b[0m\u001b[0m\n\u001b[0m\u001b[1;32m      5\u001b[0m \u001b[0mprint\u001b[0m\u001b[0;34m(\u001b[0m\u001b[0ma\u001b[0m\u001b[0;34m)\u001b[0m\u001b[0;34m\u001b[0m\u001b[0;34m\u001b[0m\u001b[0m\n",
            "\u001b[0;31mTypeError\u001b[0m: 'tuple' object does not support item assignment"
          ]
        }
      ]
    },
    {
      "cell_type": "code",
      "source": [
        "# 튜플 값 삭제하기 -> 불가능\n",
        "a= (1,2,3,4,5)\n",
        "del a[2]\n",
        "print(a)\n",
        "\n",
        "# 하나의 변수에 여러개의 값을 할당하면 자동으로 튜플로 저장\n",
        "# 기본적으로는 하나의 값은 취급하지 않는다."
      ],
      "metadata": {
        "id": "aQhDi13MeCTa"
      },
      "execution_count": null,
      "outputs": []
    },
    {
      "cell_type": "code",
      "source": [
        "# 튜플 인덱싱\n",
        "\n",
        "t1 = (1,3,5,4,2)\n",
        "print(t1[0])\n",
        "print(t1[-1])"
      ],
      "metadata": {
        "colab": {
          "base_uri": "https://localhost:8080/"
        },
        "id": "jAR2N_VgekYb",
        "outputId": "e1fbda8a-16ca-45f4-d05f-9e85e2bc85ea"
      },
      "execution_count": 3,
      "outputs": [
        {
          "output_type": "stream",
          "name": "stdout",
          "text": [
            "1\n",
            "2\n"
          ]
        }
      ]
    },
    {
      "cell_type": "code",
      "source": [
        "# 튜플 슬라이싱\n",
        "\n",
        "t1 = (1,3,5,95,3,2,9,67)\n",
        "print(t1[2:5])\n",
        "print(t1[3:])\n",
        "print(t1[:5])"
      ],
      "metadata": {
        "colab": {
          "base_uri": "https://localhost:8080/"
        },
        "id": "Jj4kJ1zsekMc",
        "outputId": "eeaf996a-8ef2-4d96-9011-a00bb66baec6"
      },
      "execution_count": 4,
      "outputs": [
        {
          "output_type": "stream",
          "name": "stdout",
          "text": [
            "(5, 95, 3)\n",
            "(95, 3, 2, 9, 67)\n",
            "(1, 3, 5, 95, 3)\n"
          ]
        }
      ]
    },
    {
      "cell_type": "code",
      "source": [
        "# 튜플 덧셈\n",
        "\n",
        "a=(1,2,3)\n",
        "b=(4,5,6)\n",
        "print(a+b)"
      ],
      "metadata": {
        "colab": {
          "base_uri": "https://localhost:8080/"
        },
        "id": "-dh7KqBme2Yz",
        "outputId": "d8bda25a-41c5-4a0f-ab45-de825d1aa8ed"
      },
      "execution_count": 5,
      "outputs": [
        {
          "output_type": "stream",
          "name": "stdout",
          "text": [
            "(1, 2, 3, 4, 5, 6)\n"
          ]
        }
      ]
    },
    {
      "cell_type": "code",
      "source": [
        "# 튜플 곱셈\n",
        "\n",
        "a*3"
      ],
      "metadata": {
        "colab": {
          "base_uri": "https://localhost:8080/"
        },
        "id": "9JyF0vM3fEqe",
        "outputId": "092ae7e1-482b-4d3d-9a71-34b1f1319af0"
      },
      "execution_count": 6,
      "outputs": [
        {
          "output_type": "execute_result",
          "data": {
            "text/plain": [
              "(1, 2, 3, 1, 2, 3, 1, 2, 3)"
            ]
          },
          "metadata": {},
          "execution_count": 6
        }
      ]
    },
    {
      "cell_type": "code",
      "source": [
        "# 튜플 길이 구하기\n",
        "\n",
        "print(len(a))"
      ],
      "metadata": {
        "colab": {
          "base_uri": "https://localhost:8080/"
        },
        "id": "Nw2dAqfyfJ_j",
        "outputId": "45c9188d-8809-4765-b7d0-97370b5b776d"
      },
      "execution_count": 7,
      "outputs": [
        {
          "output_type": "stream",
          "name": "stdout",
          "text": [
            "3\n"
          ]
        }
      ]
    },
    {
      "cell_type": "code",
      "source": [
        "# 튜플을 리스트로 변환하기 -> 수정가능하게됨\n",
        "\n",
        "a=(23,3,5,87,3)\n",
        "a= list(a)\n",
        "print(a)"
      ],
      "metadata": {
        "colab": {
          "base_uri": "https://localhost:8080/"
        },
        "id": "jDNWluoCfMQM",
        "outputId": "f31ea062-0fd6-4f9f-c01b-7e092c6b324f"
      },
      "execution_count": 8,
      "outputs": [
        {
          "output_type": "stream",
          "name": "stdout",
          "text": [
            "[23, 3, 5, 87, 3]\n"
          ]
        }
      ]
    },
    {
      "cell_type": "code",
      "source": [
        "# 리스트를 튜플로 변환하기\n",
        "a= [23,34,6457,3]\n",
        "a= tuple(a)\n",
        "print(a)"
      ],
      "metadata": {
        "colab": {
          "base_uri": "https://localhost:8080/"
        },
        "id": "gnNCIH95fRUd",
        "outputId": "39941e7f-0da5-4e31-d0e0-e054e873a2fd"
      },
      "execution_count": 9,
      "outputs": [
        {
          "output_type": "stream",
          "name": "stdout",
          "text": [
            "(23, 34, 6457, 3)\n"
          ]
        }
      ]
    },
    {
      "cell_type": "code",
      "source": [
        "a= (1,2,3,4,5,6,7,8,9,10)\n",
        "print(a[::2])\n",
        "print(a[1::2])"
      ],
      "metadata": {
        "colab": {
          "base_uri": "https://localhost:8080/"
        },
        "id": "mNGm1RKnfbVG",
        "outputId": "65e4827a-ed26-463c-984c-9ca0f4a61d32"
      },
      "execution_count": 12,
      "outputs": [
        {
          "output_type": "stream",
          "name": "stdout",
          "text": [
            "(1, 3, 5, 7, 9)\n",
            "(2, 4, 6, 8, 10)\n"
          ]
        }
      ]
    },
    {
      "cell_type": "code",
      "source": [
        "a = (1,2,3)\n",
        "a= list(a)\n",
        "a[1]=10\n",
        "print(a)\n",
        "del a[1]\n",
        "print(a)\n",
        "a= tuple(a)\n",
        "print(a)"
      ],
      "metadata": {
        "colab": {
          "base_uri": "https://localhost:8080/"
        },
        "id": "AsRi9A8kfrQt",
        "outputId": "9f30b155-d8be-47c9-e631-6f5d54fc64b9"
      },
      "execution_count": 15,
      "outputs": [
        {
          "output_type": "stream",
          "name": "stdout",
          "text": [
            "[1, 10, 3]\n",
            "[1, 3]\n",
            "(1, 3)\n"
          ]
        }
      ]
    },
    {
      "cell_type": "markdown",
      "source": [
        "튜플이 저장된 변수 a에 정수 5를 추가하시고, 내림차순으로 정렬된 튜플을 화면에 출력해보세요."
      ],
      "metadata": {
        "id": "h6uiD7eKgLjl"
      }
    },
    {
      "cell_type": "code",
      "source": [
        "a=(2,3,1,4)\n",
        "a= list(a)\n",
        "a.append(5)\n",
        "a.sort(reverse =True) \n",
        "# a.sort()\n",
        "# a.reverse() // a[::-1]\n",
        "print(a)"
      ],
      "metadata": {
        "colab": {
          "base_uri": "https://localhost:8080/"
        },
        "id": "Fo1DQkrvf9Jo",
        "outputId": "7b6c6363-7515-42e5-b075-6d68a6d526b7"
      },
      "execution_count": 21,
      "outputs": [
        {
          "output_type": "stream",
          "name": "stdout",
          "text": [
            "[5, 4, 3, 2, 1]\n"
          ]
        }
      ]
    },
    {
      "cell_type": "code",
      "source": [
        "a=(2,3,6,87,0)\n",
        "a=list(a)\n",
        "a.sort()\n",
        "a[::-2]\n"
      ],
      "metadata": {
        "colab": {
          "base_uri": "https://localhost:8080/"
        },
        "id": "ybVFTtIhgX1S",
        "outputId": "d03584f7-4406-40ec-8b01-09f880c481bc"
      },
      "execution_count": 25,
      "outputs": [
        {
          "output_type": "execute_result",
          "data": {
            "text/plain": [
              "[87, 3, 0]"
            ]
          },
          "metadata": {},
          "execution_count": 25
        }
      ]
    },
    {
      "cell_type": "code",
      "source": [],
      "metadata": {
        "id": "tcPZddljg4iw"
      },
      "execution_count": null,
      "outputs": []
    }
  ]
}