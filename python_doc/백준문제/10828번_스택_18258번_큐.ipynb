{
 "cells": [
  {
   "cell_type": "markdown",
   "metadata": {},
   "source": [
    "10828번 스택\n",
    "문제\n",
    "정수를 저장하는 스택을 구현한 다음, 입력으로 주어지는 명령을 처리하는 프로그램을 작성하시오.\n",
    "\n",
    "명령은 총 다섯 가지이다.\n",
    "\n",
    "push X: 정수 X를 스택에 넣는 연산이다.\n",
    "pop: 스택에서 가장 위에 있는 정수를 빼고, 그 수를 출력한다. 만약 스택에 들어있는 정수가 없는 경우에는 -1을 출력한다.\n",
    "size: 스택에 들어있는 정수의 개수를 출력한다.\n",
    "empty: 스택이 비어있으면 1, 아니면 0을 출력한다.\n",
    "top: 스택의 가장 위에 있는 정수를 출력한다. 만약 스택에 들어있는 정수가 없는 경우에는 -1을 출력한다.\n",
    "\n",
    "입력\n",
    "첫째 줄에 주어지는 명령의 수 N (1 ≤ N ≤ 10,000)이 주어진다. 둘째 줄부터 N개의 줄에는 명령이 하나씩 주어진다. 주어지는 정수는 1보다 크거나 같고, 100,000보다 작거나 같다. 문제에 나와있지 않은 명령이 주어지는 경우는 없다.\n",
    "\n",
    "출력\n",
    "출력해야하는 명령이 주어질 때마다, 한 줄에 하나씩 출력한다."
   ]
  },
  {
   "cell_type": "code",
   "execution_count": 10,
   "metadata": {},
   "outputs": [],
   "source": [
    "f = open(\"input.txt\",\"w\")\n",
    "f.write(\"\"\"7\n",
    "pop\n",
    "top\n",
    "push 123\n",
    "top\n",
    "pop\n",
    "top\n",
    "pop\"\"\")\n",
    "f.close()\n",
    "f=open(\"input.txt\",\"r\")\n",
    "input = f.read()\n",
    "f.close()"
   ]
  },
  {
   "cell_type": "code",
   "execution_count": 11,
   "metadata": {},
   "outputs": [
    {
     "data": {
      "text/plain": [
       "['7', 'pop', 'top', 'push 123', 'top', 'pop', 'top', 'pop']"
      ]
     },
     "execution_count": 11,
     "metadata": {},
     "output_type": "execute_result"
    }
   ],
   "source": [
    "input = input.split(\"\\n\")\n",
    "input"
   ]
  },
  {
   "cell_type": "code",
   "execution_count": 12,
   "metadata": {},
   "outputs": [
    {
     "name": "stdout",
     "output_type": "stream",
     "text": [
      "-1\n",
      "-1\n",
      "123\n",
      "123\n",
      "-1\n",
      "-1\n"
     ]
    }
   ],
   "source": [
    "stack = []\n",
    "n = int(input[0])\n",
    "for _ in range(1,n+1):\n",
    "  qry = input[_].split()\n",
    "  if qry[0] == 'push':\n",
    "    stack.append(qry[1])\n",
    "  elif qry[0] == 'pop':\n",
    "    print(stack.pop() if stack else -1)\n",
    "  elif qry[0] == 'size':\n",
    "    print(len(stack))\n",
    "  elif qry[0] =='empty':\n",
    "    print(0 if stack else -1)\n",
    "  else:\n",
    "    print(stack[-1] if stack else -1)"
   ]
  },
  {
   "cell_type": "code",
   "execution_count": 18,
   "metadata": {},
   "outputs": [],
   "source": [
    "f= open(\"input.txt\",\"w\")\n",
    "f.write(\"\"\"15\n",
    "push 1\n",
    "push 2\n",
    "front\n",
    "back\n",
    "size\n",
    "empty\n",
    "pop\n",
    "pop\n",
    "pop\n",
    "size\n",
    "empty\n",
    "pop\n",
    "push 3\n",
    "empty\n",
    "front\"\"\")\n",
    "f.close()\n",
    "f=open(\"input.txt\",\"r\")\n",
    "input = f.read()\n",
    "f.close()\n",
    "input = input.split(\"\\n\")"
   ]
  },
  {
   "cell_type": "code",
   "execution_count": 19,
   "metadata": {},
   "outputs": [
    {
     "data": {
      "text/plain": [
       "['15',\n",
       " 'push 1',\n",
       " 'push 2',\n",
       " 'front',\n",
       " 'back',\n",
       " 'size',\n",
       " 'empty',\n",
       " 'pop',\n",
       " 'pop',\n",
       " 'pop',\n",
       " 'size',\n",
       " 'empty',\n",
       " 'pop',\n",
       " 'push 3',\n",
       " 'empty',\n",
       " 'front']"
      ]
     },
     "execution_count": 19,
     "metadata": {},
     "output_type": "execute_result"
    }
   ],
   "source": [
    "input"
   ]
  },
  {
   "cell_type": "code",
   "execution_count": 25,
   "metadata": {},
   "outputs": [
    {
     "name": "stdout",
     "output_type": "stream",
     "text": [
      "1\n",
      "2\n",
      "2\n",
      "0\n",
      "1\n",
      "2\n",
      "-1\n",
      "0\n",
      "1\n",
      "-1\n",
      "0\n",
      "3\n"
     ]
    }
   ],
   "source": [
    "from turtle import st\n",
    "\n",
    "\n",
    "n = int(input[0])\n",
    "stack = []\n",
    "for q in range(1,n+1):\n",
    "  act = input[q].split()\n",
    "  if act[0] == \"push\":\n",
    "    stack.append(act[1])\n",
    "  elif act[0] == \"pop\":\n",
    "    if stack:\n",
    "      print(stack[0])\n",
    "      del stack[0]\n",
    "    else:\n",
    "      print(-1)\n",
    "  elif act[0] == \"size\":\n",
    "    print(len(stack))\n",
    "  elif act[0] == \"empty\":\n",
    "    print(0 if stack else 1)\n",
    "  elif act[0] == \"front\":\n",
    "    print(stack[0] if stack else -1)\n",
    "  elif act[0] == \"back\":\n",
    "    print(stack[-1] if stack else -1)\n",
    "    "
   ]
  },
  {
   "cell_type": "code",
   "execution_count": null,
   "metadata": {},
   "outputs": [],
   "source": []
  }
 ],
 "metadata": {
  "kernelspec": {
   "display_name": "Python 3.10.5 64-bit",
   "language": "python",
   "name": "python3"
  },
  "language_info": {
   "codemirror_mode": {
    "name": "ipython",
    "version": 3
   },
   "file_extension": ".py",
   "mimetype": "text/x-python",
   "name": "python",
   "nbconvert_exporter": "python",
   "pygments_lexer": "ipython3",
   "version": "3.10.5"
  },
  "orig_nbformat": 4,
  "vscode": {
   "interpreter": {
    "hash": "e593ac106456af50ce7af38f9671c411b49d6cd90f9b885e167f0f594e09038c"
   }
  }
 },
 "nbformat": 4,
 "nbformat_minor": 2
}
